{
 "cells": [
  {
   "cell_type": "code",
   "execution_count": 147,
   "id": "14cc0340-6377-4b60-8f9d-ad54159b7fb2",
   "metadata": {},
   "outputs": [],
   "source": [
    "import numpy as np\n",
    "import pandas as pd\n",
    "import os\n",
    "from unidecode import unidecode\n"
   ]
  },
  {
   "cell_type": "markdown",
   "id": "74da6527-db26-452d-8ea0-7f763ca4d040",
   "metadata": {},
   "source": [
    "# ENGE pre 2016"
   ]
  },
  {
   "cell_type": "code",
   "execution_count": 148,
   "id": "33f83aee-5afc-4f48-b1d4-828819e87e74",
   "metadata": {},
   "outputs": [
    {
     "name": "stdout",
     "output_type": "stream",
     "text": [
      "Index(['year', 'Total', 'Minas y canteras', 'Total Manufactura',\n",
      "       'Alimentos, bebidas y tabaco', 'Combustibles, químicos y plásticos',\n",
      "       'Maquinarias, equipos y vehículos', 'Resto industria (1)',\n",
      "       'Total Servicios', 'Electricidad, gas y agua', 'Comunicaciones',\n",
      "       'Resto actividades (2)'],\n",
      "      dtype='object')\n",
      "unque sectors: 11\n",
      "Index(['year', 'Total', 'Minas y canteras', 'Total Manufactura',\n",
      "       'Alimentos, bebidas y tabaco', 'Combustibles, químicos y plásticos',\n",
      "       'Maquinarias, equipos y vehículos', 'Resto industria (1)',\n",
      "       'Total Servicios', 'Electricidad, gas y agua', 'Comunicaciones',\n",
      "       'Resto actividades (2)'],\n",
      "      dtype='object')\n",
      "unque sectors: 11\n",
      "<class 'pandas.core.frame.DataFrame'>\n",
      "Int64Index: 253 entries, 0 to 262\n",
      "Data columns (total 3 columns):\n",
      " #   Column  Non-Null Count  Dtype \n",
      "---  ------  --------------  ----- \n",
      " 0   year    253 non-null    int64 \n",
      " 1   sector  253 non-null    object\n",
      " 2   emp     253 non-null    int32 \n",
      "dtypes: int32(1), int64(1), object(1)\n",
      "memory usage: 6.9+ KB\n",
      "<class 'pandas.core.frame.DataFrame'>\n",
      "Int64Index: 253 entries, 0 to 262\n",
      "Data columns (total 3 columns):\n",
      " #   Column  Non-Null Count  Dtype  \n",
      "---  ------  --------------  -----  \n",
      " 0   year    253 non-null    int64  \n",
      " 1   sector  253 non-null    object \n",
      " 2   vab     253 non-null    float64\n",
      "dtypes: float64(1), int64(1), object(1)\n",
      "memory usage: 7.9+ KB\n",
      "None None\n"
     ]
    }
   ],
   "source": [
    "#cargo y limpio data\n",
    "vab_1 = pd.read_csv('../enge - producto.csv', skiprows=2)\n",
    "emp_1 = pd.read_csv('../enge - empleo.csv', skiprows=2)\n",
    "# emp_1 = emp_1.replace('.', '', regex=True)\n",
    "\n",
    "\n",
    "def replace_points(df):\n",
    "    # Iterate over each column\n",
    "    for col in df.columns:\n",
    "        if df[col].dtype == 'float':\n",
    "            df[col] = df[col].astype(str).str.replace('.', '').astype(int)\n",
    "            \n",
    "    return df\n",
    "\n",
    "def clean_col (df, col):\n",
    "    df = df.replace(',', '', regex=True)\n",
    "\n",
    "    df.columns = [ x.replace('  ', '').replace('\\n', '').strip() for x in  df.columns]\n",
    "        \n",
    "    # Get the current column names\n",
    "    # column_names = df.columns.tolist()\n",
    "    # # print(column_names)\n",
    "    # # Specify the index of the column you want to rename\n",
    "    # column_index = 0\n",
    "    # # Set the new column name at the specified index\n",
    "    # column_names[column_index] = 'year'\n",
    "    # Update the column names in the DataFrame\n",
    "    # df.columns = column_names\n",
    "\n",
    "    print(df.columns)\n",
    "    \n",
    "    df = df.melt(id_vars = 'year')\n",
    "\n",
    "    df.rename(columns = {'value': col,\n",
    "                        'variable': 'sector',\n",
    "                        }, inplace = True)\n",
    "    \n",
    "    print(f'unque sectors: {len(df.sector.unique())}')\n",
    "    \n",
    "    #filtro año 2016 pero habria q buscarlo\n",
    "    df = df[df['year'] < 2016]\n",
    "    \n",
    "    df[col] = df[col].astype(float) if col == 'vab' else df[col].astype(int)\n",
    "    \n",
    "    return df\n",
    "\n",
    "\n",
    "# emp_1 = replace_points(emp_1)#\n",
    "\n",
    "    \n",
    "emp_1 = clean_col(emp_1, 'emp')\n",
    "vab_1 = clean_col(vab_1, 'vab')\n",
    "\n",
    "print(emp_1.info(), vab_1.info() )\n"
   ]
  },
  {
   "cell_type": "code",
   "execution_count": 149,
   "id": "b8ec821c-436c-4a05-aa96-36cb6e377d1c",
   "metadata": {},
   "outputs": [
    {
     "data": {
      "text/plain": [
       "11"
      ]
     },
     "execution_count": 149,
     "metadata": {},
     "output_type": "execute_result"
    }
   ],
   "source": [
    "#joineo\n",
    "data_1 = pd.merge(vab_1,\n",
    "         emp_1,\n",
    "         how = 'left', \n",
    "         on = ['year', 'sector'])\n",
    "\n",
    "data_1['sector'] = data_1['sector'].apply(unidecode)\n",
    "\n",
    "len(data_1.sector.unique())"
   ]
  },
  {
   "cell_type": "code",
   "execution_count": 150,
   "id": "d043d4b0-bbde-4408-882d-cd4084cf7b93",
   "metadata": {},
   "outputs": [],
   "source": [
    "# data_1['productividad'] = data_1.vab/data_1.emp\n",
    "# data_1"
   ]
  },
  {
   "cell_type": "markdown",
   "id": "e5e872a5-6e39-4de9-8811-df6f8026d42f",
   "metadata": {},
   "source": [
    "# ENGE post 2016"
   ]
  },
  {
   "cell_type": "code",
   "execution_count": 151,
   "id": "c70449c3-36cc-4602-9660-28300a91397c",
   "metadata": {},
   "outputs": [
    {
     "name": "stdout",
     "output_type": "stream",
     "text": [
      "Current directory: C:\\Users\\mateo\\Documents\\data\\indec\\enge\n",
      "1050\n",
      "<class 'pandas.core.frame.DataFrame'>\n",
      "Int64Index: 1050 entries, 0 to 237\n",
      "Data columns (total 5 columns):\n",
      " #   Column      Non-Null Count  Dtype \n",
      "---  ------      --------------  ----- \n",
      " 0   componente  1050 non-null   object\n",
      " 1   unidad      1050 non-null   object\n",
      " 2   sector      1050 non-null   object\n",
      " 3   value       1050 non-null   object\n",
      " 4   year        1050 non-null   object\n",
      "dtypes: object(5)\n",
      "memory usage: 49.2+ KB\n"
     ]
    }
   ],
   "source": [
    "#cargo data\n",
    "\n",
    "# Get the current working directory\n",
    "current_directory = os.getcwd()\n",
    "\n",
    "# Print the current working directory\n",
    "print(\"Current directory:\", current_directory)\n",
    "\n",
    "# List files in the current directory\n",
    "def get_enge_data_2(current_directory):\n",
    "    files = os.listdir(current_directory)\n",
    "    data = pd.DataFrame()\n",
    "    total_len = 0\n",
    "    for file in files:\n",
    "        if '.xls' in file: \n",
    "            # print(file)\n",
    "            year = file.split('.')[0].split('_')[-1].strip()\n",
    "            # print(year)\n",
    "            # Specify the file path\n",
    "            file_path =  current_directory + \"/\" + file\n",
    "\n",
    "            # Specify the sheet name or index\n",
    "            sheet_name = 'C11'  # You can also use the sheet index (0, 1, 2, etc.)\n",
    "\n",
    "            # Read the Excel file\n",
    "            df = pd.read_excel(file_path, sheet_name=sheet_name, skiprows  = 2)\n",
    "\n",
    "\n",
    "            # Rename the columns starting with 'Unnamed'\n",
    "            df.rename(columns=lambda x: df.iloc[0][x] if 'Unnamed' in str(x) else x, inplace=True)\n",
    "            df.rename(columns={'Componente': 'componente', \n",
    "                               'Unidad de medida': 'unidad',\n",
    "                    'Electricidad, gas, agua, residuos y saneamiento' : 'Electricidad, gas y agua',\n",
    "                    'Servicios de información y comunicaciones': 'Comunicaciones',\n",
    "                    'Industria manufacturera': 'Total Manufactura'\n",
    "                    }, inplace = True)\n",
    "            \n",
    "            # Drop the first two rows\n",
    "            df = df.drop([0, 1]).reset_index(drop=True)\n",
    "\n",
    "            \n",
    "            df = df.melt(id_vars = ['componente', 'unidad'], var_name = 'sector')\n",
    "\n",
    "            # Filter rows that start with \"Fuente\"\n",
    "            df.dropna(subset = ['componente'], inplace = True)\n",
    "            df = df[~df['componente'].str.startswith('Fuente')  & df['componente'].notna()]\n",
    "\n",
    "            df['year']= year    \n",
    "\n",
    "            total_len += len(df)\n",
    "\n",
    "            data = pd.concat([df, data])\n",
    "\n",
    "    print(total_len)\n",
    "    return data\n",
    "data = get_enge_data_2(current_directory)\n",
    "data.info()"
   ]
  },
  {
   "cell_type": "code",
   "execution_count": 152,
   "id": "3263649a-0830-42a5-8c15-1dbe3ab525cb",
   "metadata": {},
   "outputs": [],
   "source": [
    "#calculo el index \n",
    "\n",
    "def get_index(df):\n",
    "    # print(df.columns)\n",
    "    # Pivot the dataframe\n",
    "    pivot_df = df.pivot(values='value', index=['sector', 'year'], columns='componente')#.reset_index()#.drop(['componente'], axis =1)\n",
    "    \n",
    "\n",
    "    # Calculate the ratio\n",
    "    # pivot_df['productividad'] = pivot_df['Valor agregado bruto'] / pivot_df['Puestos de trabajo asalariados']\n",
    "    pivot_df['tasa_rentabilidad'] = pivot_df['Utilidad'] / pivot_df['Activo'] *100\n",
    "\n",
    "    pivot_df.rename(columns = {'Valor agregado bruto': 'vab',\n",
    "                              'Puestos de trabajo asalariados' : 'emp',\n",
    "                              }, inplace = True)\n",
    "    \n",
    "    # print(pivot_df.columns)\n",
    "    pivot_df.reset_index(inplace= True)\n",
    "    pivot_df = pivot_df[['year', 'sector', 'vab' , 'emp' ]] # 'productividad'\n",
    "    \n",
    "    pivot_df['sector'] = pivot_df['sector'].apply(unidecode)\n",
    "\n",
    "    return pivot_df.reset_index()\n",
    "data_2  = get_index(data)"
   ]
  },
  {
   "cell_type": "code",
   "execution_count": 153,
   "id": "60a6e70d-653f-4424-8069-7f9981d0eb27",
   "metadata": {},
   "outputs": [
    {
     "data": {
      "text/html": [
       "<div>\n",
       "<style scoped>\n",
       "    .dataframe tbody tr th:only-of-type {\n",
       "        vertical-align: middle;\n",
       "    }\n",
       "\n",
       "    .dataframe tbody tr th {\n",
       "        vertical-align: top;\n",
       "    }\n",
       "\n",
       "    .dataframe thead th {\n",
       "        text-align: right;\n",
       "    }\n",
       "</style>\n",
       "<table border=\"1\" class=\"dataframe\">\n",
       "  <thead>\n",
       "    <tr style=\"text-align: right;\">\n",
       "      <th>componente</th>\n",
       "      <th>index</th>\n",
       "      <th>year</th>\n",
       "      <th>sector</th>\n",
       "      <th>vab</th>\n",
       "      <th>emp</th>\n",
       "    </tr>\n",
       "  </thead>\n",
       "  <tbody>\n",
       "    <tr>\n",
       "      <th>0</th>\n",
       "      <td>0</td>\n",
       "      <td>2017</td>\n",
       "      <td>Alimentos, bebidas y tabaco</td>\n",
       "      <td>318010.524911</td>\n",
       "      <td>137557</td>\n",
       "    </tr>\n",
       "    <tr>\n",
       "      <th>1</th>\n",
       "      <td>1</td>\n",
       "      <td>2018</td>\n",
       "      <td>Alimentos, bebidas y tabaco</td>\n",
       "      <td>526944.771732</td>\n",
       "      <td>133637</td>\n",
       "    </tr>\n",
       "    <tr>\n",
       "      <th>2</th>\n",
       "      <td>2</td>\n",
       "      <td>2019</td>\n",
       "      <td>Alimentos, bebidas y tabaco</td>\n",
       "      <td>787440.418027</td>\n",
       "      <td>130560</td>\n",
       "    </tr>\n",
       "  </tbody>\n",
       "</table>\n",
       "</div>"
      ],
      "text/plain": [
       "componente  index  year                       sector            vab     emp\n",
       "0               0  2017  Alimentos, bebidas y tabaco  318010.524911  137557\n",
       "1               1  2018  Alimentos, bebidas y tabaco  526944.771732  133637\n",
       "2               2  2019  Alimentos, bebidas y tabaco  787440.418027  130560"
      ]
     },
     "execution_count": 153,
     "metadata": {},
     "output_type": "execute_result"
    }
   ],
   "source": [
    "data_2.head(3)\n",
    "# data_2.reset_index()\n",
    "# data_2.index#iloc[:,1: ]#.index"
   ]
  },
  {
   "cell_type": "code",
   "execution_count": 154,
   "id": "bc0f88bf-f1e1-4d0f-83f2-138fc1fd3c97",
   "metadata": {},
   "outputs": [
    {
     "name": "stdout",
     "output_type": "stream",
     "text": [
      "data_1\n",
      "11\n",
      "data_2\n",
      "16\n"
     ]
    },
    {
     "data": {
      "text/plain": [
       "{'data_1': array(['Total', 'Minas y canteras', 'Total Manufactura',\n",
       "        'Alimentos, bebidas y tabaco',\n",
       "        'Combustibles, quimicos y plasticos',\n",
       "        'Maquinarias, equipos y vehiculos', 'Resto industria (1)',\n",
       "        'Total Servicios', 'Electricidad, gas y agua', 'Comunicaciones',\n",
       "        'Resto actividades (2)'], dtype=object),\n",
       " 'data_2': array(['Alimentos, bebidas y tabaco',\n",
       "        'Combustibles, quimicos y plasticos', 'Comercio', 'Comunicaciones',\n",
       "        'Construccion', 'Electricidad, gas y agua',\n",
       "        'Maquinarias, equipos y vehiculos', 'Minas y canteras',\n",
       "        'Minerales no metalicos, metales y productos de metal',\n",
       "        'Otras actividades', 'Otros industria manufacturera',\n",
       "        'Textiles y cuero', 'Textiles y cueros', 'Total',\n",
       "        'Total Manufactura', 'Transporte, correo y almacenamiento'],\n",
       "       dtype=object)}"
      ]
     },
     "execution_count": 154,
     "metadata": {},
     "output_type": "execute_result"
    }
   ],
   "source": [
    "#veo los sectores presentes en cada conjunto de datos\n",
    "dict_sectors = {}\n",
    "for df_i, nam_i in zip([data_1, data_2 ], ['data_1', 'data_2']):\n",
    "    unique_sectors = df_i.sector.unique()\n",
    "    print(nam_i)\n",
    "    # print(unique_sectors)\n",
    "    print(len(unique_sectors))\n",
    "\n",
    "    dict_sectors[nam_i] = unique_sectors\n",
    "    \n",
    "dict_sectors\n"
   ]
  },
  {
   "cell_type": "code",
   "execution_count": 155,
   "id": "1b36095d-ee23-4cb8-ba8c-9a0c48e95a89",
   "metadata": {},
   "outputs": [
    {
     "name": "stdout",
     "output_type": "stream",
     "text": [
      "8\n",
      "<class 'set'>\n"
     ]
    },
    {
     "data": {
      "text/plain": [
       "{'Alimentos, bebidas y tabaco',\n",
       " 'Combustibles, quimicos y plasticos',\n",
       " 'Comunicaciones',\n",
       " 'Electricidad, gas y agua',\n",
       " 'Maquinarias, equipos y vehiculos',\n",
       " 'Minas y canteras',\n",
       " 'Total',\n",
       " 'Total Manufactura'}"
      ]
     },
     "execution_count": 155,
     "metadata": {},
     "output_type": "execute_result"
    }
   ],
   "source": [
    "#veo los sectores en comun\n",
    "set1 = set(dict_sectors['data_1'])\n",
    "set2 = set(dict_sectors['data_2'])\n",
    "\n",
    "common_values = set1.intersection(set2)\n",
    "print(len(common_values))\n",
    "# common_values = common_values.astype(list)\n",
    "print(type(common_values))\n",
    "common_values"
   ]
  },
  {
   "cell_type": "code",
   "execution_count": 156,
   "id": "fc0007f7-d208-4f73-add7-04c524b72912",
   "metadata": {},
   "outputs": [
    {
     "name": "stdout",
     "output_type": "stream",
     "text": [
      "['Total' 'Minas y canteras' 'Total Manufactura'\n",
      " 'Alimentos, bebidas y tabaco' 'Combustibles, quimicos y plasticos'\n",
      " 'Maquinarias, equipos y vehiculos' 'Resto industria'\n",
      " 'Electricidad, gas y agua' 'Comunicaciones']\n",
      "9\n"
     ]
    }
   ],
   "source": [
    "#concateno la data y me quedo con los sectores en comun\n",
    "data = pd.concat([data_1, data_2 ])\n",
    "# Apply unidecode to all string columns\n",
    "# data = data.applymap(lambda x: unidecode(x) if isinstance(x, str) else x)\n",
    "\n",
    "# Replace 'unique' with 'Resto industria' if not in common_values\n",
    "data['sector'] = np.where(data['sector'].isin(common_values), data['sector'], 'Resto industria')\n",
    "data['year'] = data['year'].astype(int)\n",
    "\n",
    "unique_sectors = data.sector.unique()\n",
    "print(unique_sectors)\n",
    "print(len(unique_sectors))"
   ]
  },
  {
   "cell_type": "code",
   "execution_count": 157,
   "id": "58376e9f-fb55-4083-b0fd-09812328e7b7",
   "metadata": {},
   "outputs": [],
   "source": [
    "#agrego el resto de la industria\n",
    "data = data.groupby(['year', 'sector']).agg(\n",
    "    {'vab': 'sum',\n",
    "     'emp': 'sum',\n",
    "     # 'productividad': 'mean'\n",
    "    }\n",
    "\n",
    "    ).reset_index()"
   ]
  },
  {
   "cell_type": "code",
   "execution_count": 158,
   "id": "6a1aa066-b675-4c38-be90-ff4c5ff15b43",
   "metadata": {},
   "outputs": [],
   "source": [
    "#cargo indices de precios y tcp\n",
    "indices =  pd.read_excel('../TCP_me.xlsx', skiprows  = 2)\n",
    "# print(indices)\n",
    "indices.rename(columns = {\n",
    "    'Unnamed: 0' : 'year',\n",
    "    'Unnamed: 14' : 'TCP_1',\n",
    "    'Unnamed: 15' : 'TCP_2',\n",
    "        },\n",
    "               inplace = True\n",
    "              )\n",
    "indices = indices.iloc[2:, :]\n",
    "indices = indices[['year', 'IPC', 'TCC', 'TCP_1', 'TCP_2']]\n",
    "indices['year'] = indices['year'].astype(int) #astype(str).str.strip(). \n",
    "# indices.year.tolist()"
   ]
  },
  {
   "cell_type": "code",
   "execution_count": 159,
   "id": "7586acd5-ff56-4a56-953e-969c755257ea",
   "metadata": {},
   "outputs": [
    {
     "data": {
      "text/html": [
       "<div>\n",
       "<style scoped>\n",
       "    .dataframe tbody tr th:only-of-type {\n",
       "        vertical-align: middle;\n",
       "    }\n",
       "\n",
       "    .dataframe tbody tr th {\n",
       "        vertical-align: top;\n",
       "    }\n",
       "\n",
       "    .dataframe thead th {\n",
       "        text-align: right;\n",
       "    }\n",
       "</style>\n",
       "<table border=\"1\" class=\"dataframe\">\n",
       "  <thead>\n",
       "    <tr style=\"text-align: right;\">\n",
       "      <th></th>\n",
       "      <th>year</th>\n",
       "      <th>sector</th>\n",
       "      <th>vab</th>\n",
       "      <th>emp</th>\n",
       "      <th>IPC</th>\n",
       "      <th>TCC</th>\n",
       "      <th>TCP_1</th>\n",
       "      <th>TCP_2</th>\n",
       "      <th>vab_ipc</th>\n",
       "      <th>vab_tcp_1</th>\n",
       "      <th>productividad_tcp_1</th>\n",
       "      <th>productividad_ipc</th>\n",
       "    </tr>\n",
       "  </thead>\n",
       "  <tbody>\n",
       "    <tr>\n",
       "      <th>0</th>\n",
       "      <td>1993</td>\n",
       "      <td>Alimentos, bebidas y tabaco</td>\n",
       "      <td>5636.0</td>\n",
       "      <td>110921.0</td>\n",
       "      <td>0.632744</td>\n",
       "      <td>0.99</td>\n",
       "      <td>1.997278</td>\n",
       "      <td>2.091472</td>\n",
       "      <td>8907.230586</td>\n",
       "      <td>2821.840264</td>\n",
       "      <td>0.025440</td>\n",
       "      <td>0.080302</td>\n",
       "    </tr>\n",
       "    <tr>\n",
       "      <th>1</th>\n",
       "      <td>1993</td>\n",
       "      <td>Combustibles, quimicos y plasticos</td>\n",
       "      <td>5624.0</td>\n",
       "      <td>54652.0</td>\n",
       "      <td>0.632744</td>\n",
       "      <td>0.99</td>\n",
       "      <td>1.997278</td>\n",
       "      <td>2.091472</td>\n",
       "      <td>8888.265581</td>\n",
       "      <td>2815.832088</td>\n",
       "      <td>0.051523</td>\n",
       "      <td>0.162634</td>\n",
       "    </tr>\n",
       "    <tr>\n",
       "      <th>2</th>\n",
       "      <td>1993</td>\n",
       "      <td>Comunicaciones</td>\n",
       "      <td>3651.6</td>\n",
       "      <td>71426.0</td>\n",
       "      <td>0.632744</td>\n",
       "      <td>0.99</td>\n",
       "      <td>1.997278</td>\n",
       "      <td>2.091472</td>\n",
       "      <td>5771.050959</td>\n",
       "      <td>1828.288131</td>\n",
       "      <td>0.025597</td>\n",
       "      <td>0.080798</td>\n",
       "    </tr>\n",
       "    <tr>\n",
       "      <th>3</th>\n",
       "      <td>1993</td>\n",
       "      <td>Electricidad, gas y agua</td>\n",
       "      <td>3076.2</td>\n",
       "      <td>54362.0</td>\n",
       "      <td>0.632744</td>\n",
       "      <td>0.99</td>\n",
       "      <td>1.997278</td>\n",
       "      <td>2.091472</td>\n",
       "      <td>4861.678979</td>\n",
       "      <td>1540.196065</td>\n",
       "      <td>0.028332</td>\n",
       "      <td>0.089432</td>\n",
       "    </tr>\n",
       "    <tr>\n",
       "      <th>4</th>\n",
       "      <td>1993</td>\n",
       "      <td>Maquinarias, equipos y vehiculos</td>\n",
       "      <td>2289.0</td>\n",
       "      <td>47257.0</td>\n",
       "      <td>0.632744</td>\n",
       "      <td>0.99</td>\n",
       "      <td>1.997278</td>\n",
       "      <td>2.091472</td>\n",
       "      <td>3617.574665</td>\n",
       "      <td>1146.059681</td>\n",
       "      <td>0.024252</td>\n",
       "      <td>0.076551</td>\n",
       "    </tr>\n",
       "  </tbody>\n",
       "</table>\n",
       "</div>"
      ],
      "text/plain": [
       "   year                              sector     vab       emp       IPC   TCC  \\\n",
       "0  1993         Alimentos, bebidas y tabaco  5636.0  110921.0  0.632744  0.99   \n",
       "1  1993  Combustibles, quimicos y plasticos  5624.0   54652.0  0.632744  0.99   \n",
       "2  1993                      Comunicaciones  3651.6   71426.0  0.632744  0.99   \n",
       "3  1993            Electricidad, gas y agua  3076.2   54362.0  0.632744  0.99   \n",
       "4  1993    Maquinarias, equipos y vehiculos  2289.0   47257.0  0.632744  0.99   \n",
       "\n",
       "      TCP_1     TCP_2      vab_ipc    vab_tcp_1  productividad_tcp_1  \\\n",
       "0  1.997278  2.091472  8907.230586  2821.840264             0.025440   \n",
       "1  1.997278  2.091472  8888.265581  2815.832088             0.051523   \n",
       "2  1.997278  2.091472  5771.050959  1828.288131             0.025597   \n",
       "3  1.997278  2.091472  4861.678979  1540.196065             0.028332   \n",
       "4  1.997278  2.091472  3617.574665  1146.059681             0.024252   \n",
       "\n",
       "  productividad_ipc  \n",
       "0          0.080302  \n",
       "1          0.162634  \n",
       "2          0.080798  \n",
       "3          0.089432  \n",
       "4          0.076551  "
      ]
     },
     "execution_count": 159,
     "metadata": {},
     "output_type": "execute_result"
    }
   ],
   "source": [
    "data_join = pd.merge(data,\n",
    "         indices,\n",
    "         how = 'left',\n",
    "         on = 'year')\n",
    "\n",
    "data_join['vab'] = data_join['vab'] #* 10e6\n",
    "data_join['vab_ipc'] = data_join['vab']/data_join['IPC']\n",
    "data_join['vab_tcp_1'] = data_join['vab']/data_join['TCP_1']\n",
    "\n",
    "data_join['productividad_tcp_1'] = data_join['vab_tcp_1']/data_join['emp']\n",
    "data_join['productividad_ipc'] = data_join['vab_ipc']/data_join['emp']\n",
    "\n",
    "# data_join['prod_tcp'] = data_join['productividad']/data_join['TCP_1']\n",
    "# data_join.to_csv('enge_results.csv')\n",
    "data_join.head()"
   ]
  },
  {
   "cell_type": "code",
   "execution_count": 160,
   "id": "d8cbaf30-a1d6-4790-a641-eb9eee6b04ab",
   "metadata": {},
   "outputs": [
    {
     "data": {
      "image/png": "[encoded data removed]",
      "text/plain": [
       "<Figure size 720x432 with 1 Axes>"
      ]
     },
     "metadata": {
      "needs_background": "light"
     },
     "output_type": "display_data"
    }
   ],
   "source": [
    "import pandas as pd\n",
    "import matplotlib.pyplot as plt\n",
    "\n",
    "variables = ['productividad_tcp_1' ,'productividad_ipc']\n",
    "variable = variables[1]\n",
    "# Assuming your dataframe is named 'df'\n",
    "plt.figure(figsize=(10, 6))  # Adjust the figure size if needed\n",
    "\n",
    "# Group the data by sector and plot each group separately\n",
    "for sector, data in data_join.groupby('sector'):\n",
    "    plt.plot(data['year'], data[variable], label=sector)\n",
    "\n",
    "plt.xlabel('Year')\n",
    "plt.ylabel('prod_tcp')\n",
    "plt.title('Line Plot of prod_tcp by Year and Sector')\n",
    "plt.legend()  # Show the legend with sector labels\n",
    "plt.grid(True)  # Add a grid\n",
    "plt.show()\n"
   ]
  },
  {
   "cell_type": "code",
   "execution_count": 164,
   "id": "19d4528f-7622-4af7-8d9f-b7dbf41f2182",
   "metadata": {},
   "outputs": [
    {
     "data": {
      "image/png": "[encoded data removed]",
      "text/plain": [
       "<Figure size 720x432 with 1 Axes>"
      ]
     },
     "metadata": {
      "needs_background": "light"
     },
     "output_type": "display_data"
    }
   ],
   "source": [
    "variable = variables[0]\n",
    "\n",
    "# Assuming your dataframe is named 'df'\n",
    "plt.figure(figsize=(10, 6))  # Adjust the figure size if needed\n",
    "\n",
    "# Group the data by sector and plot each group separately\n",
    "for sector, data in data_join.groupby('sector'):\n",
    "    plt.plot(data['year'], data[variable], label=sector)\n",
    "\n",
    "plt.xlabel('Year')\n",
    "plt.ylabel('prod_tcp')\n",
    "plt.title('Line Plot of prod_tcp by Year and Sector')\n",
    "plt.legend()  # Show the legend with sector labels\n",
    "plt.grid(True)  # Add a grid\n",
    "plt.show()"
   ]
  },
  {
   "cell_type": "code",
   "execution_count": 161,
   "id": "113d0dbd-0041-4409-83b9-d81e61aa2a2a",
   "metadata": {},
   "outputs": [],
   "source": [
    "# import pandas as pd\n",
    "# import matplotlib.pyplot as plt\n",
    "\n",
    "# # Load the dataset\n",
    "# # data = pd.read_csv('your_dataset.csv')  # Replace 'your_dataset.csv' with the actual file path\n",
    "\n",
    "# # Plot the 'productividad' variable colored by sector\n",
    "# plt.scatter(data_join['year'], data_join['prod_tcp'], c=data_join['sector'], cmap='Set1')\n",
    "# plt.xlabel('Year')\n",
    "# plt.ylabel('Productividad')\n",
    "# plt.title('Productividad by Sector')\n",
    "# plt.colorbar(label='Sector')\n",
    "# plt.show()\n"
   ]
  },
  {
   "cell_type": "code",
   "execution_count": 162,
   "id": "e0dc2f6f-d7cf-485f-974f-52ab1d224542",
   "metadata": {},
   "outputs": [],
   "source": [
    "# import pandas as pd\n",
    "# import matplotlib.pyplot as plt\n",
    "# from sklearn.preprocessing import LabelEncoder\n",
    "\n",
    "# # Load the dataset\n",
    "# # data_join = pd.read_csv('your_dataset.csv')  # Replace 'your_dataset.csv' with the actual file path\n",
    "\n",
    "# # Encode the 'sector' column to numeric values\n",
    "# encoder = LabelEncoder()\n",
    "# data_join['sector_encoded'] = encoder.fit_transform(data_join['sector'])\n",
    "\n",
    "# # Plot the 'productividad' variable colored by sector\n",
    "# plt.scatter(data_join['year'], data_join['productividad_tcp_1'], c=data_join['sector_encoded'], cmap='Set1')\n",
    "# plt.xlabel('Year')\n",
    "# plt.ylabel('Productividad')\n",
    "# plt.title('Productividad by Sector')\n",
    "# plt.colorbar(label='Sector')\n",
    "# plt.show()\n"
   ]
  },
  {
   "cell_type": "code",
   "execution_count": 163,
   "id": "98ece8b8-87ce-4af8-8f49-fdef5bab4aa3",
   "metadata": {},
   "outputs": [],
   "source": [
    "\n",
    "# Plot the 'productividad' variable colored by sector\n",
    "# plt.scatter(data_join['year'], data_join['productividad'], c=data_join['sector'], cmap='Set1')\n",
    "# plt.xlabel('Year')\n",
    "# plt.ylabel('Productividad')\n",
    "# plt.title('Productividad by Sector')\n",
    "# plt.colorbar(label='Sector')\n",
    "# plt.show()"
   ]
  }
 ],
 "metadata": {
  "kernelspec": {
   "display_name": "Python 3 (ipykernel)",
   "language": "python",
   "name": "python3"
  },
  "language_info": {
   "codemirror_mode": {
    "name": "ipython",
    "version": 3
   },
   "file_extension": ".py",
   "mimetype": "text/x-python",
   "name": "python",
   "nbconvert_exporter": "python",
   "pygments_lexer": "ipython3",
   "version": "3.9.12"
  }
 },
 "nbformat": 4,
 "nbformat_minor": 5
}
